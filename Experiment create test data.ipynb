{
 "cells": [
  {
   "cell_type": "code",
   "execution_count": 15,
   "metadata": {},
   "outputs": [],
   "source": [
    "import sys\n",
    "import numpy as np\n",
    "import pandas as pd\n",
    "import matplotlib.pyplot as plt\n",
    "import matplotlib.patches as mpatches\n",
    "import cv2\n",
    "import os\n",
    "import scipy.signal\n",
    "\n",
    "from htr import page_detection\n",
    "from htr import word_detection\n",
    "\n",
    "%matplotlib inline\n",
    "plt.rcParams['figure.figsize'] = (10.0, 10.0)\n",
    "\n",
    "\n",
    "def implt(img, cmp=None, t=''):\n",
    "    plt.imshow(img, cmap=cmp)\n",
    "    plt.title(t)\n",
    "    plt.show()"
   ]
  },
  {
   "cell_type": "code",
   "execution_count": 16,
   "metadata": {},
   "outputs": [],
   "source": [
    "def extract_and_save_chars(chars):\n",
    "    count = 0\n",
    "    for c in chars:\n",
    "        cv2.imwrite(\"./training_data/test_set/\" + str(count) + \".jpg\", c)\n",
    "        count += 1"
   ]
  },
  {
   "cell_type": "code",
   "execution_count": 17,
   "metadata": {},
   "outputs": [
    {
     "name": "stdout",
     "output_type": "stream",
     "text": [
      "DONE\n"
     ]
    }
   ],
   "source": [
    "path = \"./data/slova/s4.jpg\"\n",
    "image = page_detection.detect(path)\n",
    "\n",
    "characters = word_detection.detect(image)\n",
    "\n",
    "processed = []\n",
    "for c in characters:\n",
    "    c_copy = c.copy()\n",
    "    img = cv2.cvtColor(c_copy, cv2.COLOR_RGB2GRAY)\n",
    "    img = 255 - img\n",
    "    thresh = histogram_norm(img)\n",
    "    \n",
    "    cropped = cropp(thresh)\n",
    "    \n",
    "    resized = cv2.resize(255-cropped,(43,43))\n",
    "    thresh = histogram_norm(resized)\n",
    "    \n",
    "    processed.append(resized)\n",
    "    #implt(resized, 'gray')\n",
    "    \n",
    "extract_and_save_chars(processed)\n",
    "print('DONE')"
   ]
  },
  {
   "cell_type": "code",
   "execution_count": 5,
   "metadata": {},
   "outputs": [],
   "source": [
    "def bilateral_norm(img):\n",
    "    img = cv2.bilateralFilter(img, 9, 15, 30)\n",
    "    return cv2.normalize(img, None, 0, 255, cv2.NORM_MINMAX)\n",
    "\n",
    "def histogram_norm(img):\n",
    "    img = bilateral_norm(img)\n",
    "    add_img = 255 - cv2.threshold(img, 0, 255, cv2.THRESH_BINARY + cv2.THRESH_OTSU)[1]\n",
    "    img = 255 - img\n",
    "    img = (img - np.min(img)) / (np.max(img) - np.min(img)) * 255        \n",
    "    hist, bins = np.histogram(img.ravel(), 256, [0,256])\n",
    "    \n",
    "    img = img.astype(np.uint8)\n",
    "\n",
    "    ret,thresh4 = cv2.threshold(img,np.argmax(hist)+10,255,cv2.THRESH_TOZERO)\n",
    "    return add_img\n",
    "    return cv2.add(add_img, thresh4, dtype=cv2.CV_8UC1)"
   ]
  },
  {
   "cell_type": "code",
   "execution_count": 4,
   "metadata": {},
   "outputs": [],
   "source": [
    "def cropp(img):\n",
    "    h,w = img.shape\n",
    "    top=0\n",
    "    down=0\n",
    "    left=0\n",
    "    right=0\n",
    "    \n",
    "    halt = False\n",
    "    for i in range(h):\n",
    "        if halt:\n",
    "            break\n",
    "        for j in range(w):\n",
    "            if img[i,j] == 0:\n",
    "                halt = True\n",
    "                top = i-1\n",
    "                break\n",
    "                \n",
    "    halt = False\n",
    "    for i in reversed(range(h)):\n",
    "        if halt:\n",
    "            break\n",
    "        for j in range(w):\n",
    "            if img[i,j] == 0:\n",
    "                halt = True\n",
    "                down = i+1\n",
    "                break\n",
    "    \n",
    "    halt = False\n",
    "    for i in range(w):\n",
    "        if halt:\n",
    "            break\n",
    "        for j in range(h):\n",
    "            if img[j,i] == 0:\n",
    "                halt = True\n",
    "                left = i-1\n",
    "                break\n",
    "                \n",
    "    halt = False\n",
    "    for i in reversed(range(w)):\n",
    "        if halt:\n",
    "            break\n",
    "        for j in range(h):\n",
    "            if img[j,i] == 0:\n",
    "                halt = True\n",
    "                right = i+1\n",
    "                break\n",
    "                \n",
    "    if (top < 0): top = 0\n",
    "    if (down < 0): down = 0\n",
    "    if (left < 0): left = 0\n",
    "    if (right < 0): right = 0\n",
    "        \n",
    "    #print('Top: ', top)\n",
    "    #print('Down: ', down)\n",
    "    #print('Left: ', left)\n",
    "    #print('Right: ', right)\n",
    "    \n",
    "    return img[top:down, left:right]"
   ]
  }
 ],
 "metadata": {
  "kernelspec": {
   "display_name": "Python 3",
   "language": "python",
   "name": "python3"
  },
  "language_info": {
   "codemirror_mode": {
    "name": "ipython",
    "version": 3
   },
   "file_extension": ".py",
   "mimetype": "text/x-python",
   "name": "python",
   "nbconvert_exporter": "python",
   "pygments_lexer": "ipython3",
   "version": "3.6.5"
  }
 },
 "nbformat": 4,
 "nbformat_minor": 2
}
